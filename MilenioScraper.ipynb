{
  "nbformat": 4,
  "nbformat_minor": 0,
  "metadata": {
    "colab": {
      "provenance": [],
      "toc_visible": true,
      "authorship_tag": "ABX9TyNk/xvlFtGlsg4Yu/EZBVgQ",
      "include_colab_link": true
    },
    "kernelspec": {
      "name": "python3",
      "display_name": "Python 3"
    },
    "language_info": {
      "name": "python"
    }
  },
  "cells": [
    {
      "cell_type": "markdown",
      "metadata": {
        "id": "view-in-github",
        "colab_type": "text"
      },
      "source": [
        "<a href=\"https://colab.research.google.com/github/MauricioTellezNava/ejercicios_automatizacion_y_analisis/blob/Milenio/MilenioScraper.ipynb\" target=\"_parent\"><img src=\"https://colab.research.google.com/assets/colab-badge.svg\" alt=\"Open In Colab\"/></a>"
      ]
    },
    {
      "cell_type": "code",
      "source": [
        "from bs4 import BeautifulSoup\n",
        "import requests\n",
        "import pandas as pd\n",
        "import numpy as np"
      ],
      "metadata": {
        "id": "Pjp1ck4TvG7l"
      },
      "execution_count": 85,
      "outputs": []
    },
    {
      "cell_type": "code",
      "source": [
        "# Creando un header\n",
        "headers = {'User-agent': 'Mozilla/5.0 (Windows NT 10.0; Win64; x64) AppleWebKit/537.36 (KHTML, like Gecko) Chrome/58.0.3029.110 Safari/537.3'}\n",
        "\n",
        "request = requests.get('https://www.milenio.com/', headers=headers)\n",
        "html = request.content\n",
        "\n",
        "# Creando soup\n",
        "soup = BeautifulSoup(html, 'html.parser')\n",
        "# print(soup.prettify())  # Para buscar los elementos necesarios\n",
        "\n",
        "articles = []\n",
        "\n",
        "for h in soup.findAll(\"a\", class_=\"board-module__a\"):\n",
        "    if h.get('target') != '_blank':\n",
        "        name = h.contents[0]\n",
        "        link = h['href']\n",
        "        category = link.split('/')[1]\n",
        "\n",
        "        article = {\n",
        "            \"name\": name,\n",
        "            \"link\": link,\n",
        "            \"category\": category\n",
        "        }\n",
        "\n",
        "        articles.append(article)\n",
        "\n",
        "# Código para crear un dataset con las columnas 'name', 'link' y 'category'\n",
        "df = pd.DataFrame(articles, columns=['name', 'link', 'category'])\n"
      ],
      "metadata": {
        "id": "3uCshHAx74ih"
      },
      "execution_count": 86,
      "outputs": []
    },
    {
      "cell_type": "code",
      "source": [
        "print(df.shape)\n",
        "df.head()"
      ],
      "metadata": {
        "colab": {
          "base_uri": "https://localhost:8080/",
          "height": 224
        },
        "id": "yG5pcjcX8o_E",
        "outputId": "fbba0846-b9a1-49f1-a96d-520b9293b3c1"
      },
      "execution_count": 87,
      "outputs": [
        {
          "output_type": "stream",
          "name": "stdout",
          "text": [
            "(81, 3)\n"
          ]
        },
        {
          "output_type": "execute_result",
          "data": {
            "text/plain": [
              "                                                name  \\\n",
              "0             Vinculan a proceso a Francisco Garduño   \n",
              "1  Incendio consume pipas con gasolina en carrete...   \n",
              "2     Tony Finau conquista el Mexico Open at Vidanta   \n",
              "3  Murió Mariano Hernández, diputado del PT en Pu...   \n",
              "4     En Cuernavaca, localizan con vida a Diana Peña   \n",
              "\n",
              "                                                link  category  \n",
              "0  /policia/francisco-garduno-vinculado-proceso-i...   policia  \n",
              "1  /estados/incendio-pipas-matamoros-tamaulipas-3...   estados  \n",
              "2  /deportes/mas-aficion/tony-finau-conquista-mex...  deportes  \n",
              "3  /politica/fallece-mariano-hernandez-diputado-l...  politica  \n",
              "4  /policia/diana-pena-desaparecida-coacalco-loca...   policia  "
            ],
            "text/html": [
              "\n",
              "  <div id=\"df-a73234b2-aadc-47c4-b3de-265460873877\">\n",
              "    <div class=\"colab-df-container\">\n",
              "      <div>\n",
              "<style scoped>\n",
              "    .dataframe tbody tr th:only-of-type {\n",
              "        vertical-align: middle;\n",
              "    }\n",
              "\n",
              "    .dataframe tbody tr th {\n",
              "        vertical-align: top;\n",
              "    }\n",
              "\n",
              "    .dataframe thead th {\n",
              "        text-align: right;\n",
              "    }\n",
              "</style>\n",
              "<table border=\"1\" class=\"dataframe\">\n",
              "  <thead>\n",
              "    <tr style=\"text-align: right;\">\n",
              "      <th></th>\n",
              "      <th>name</th>\n",
              "      <th>link</th>\n",
              "      <th>category</th>\n",
              "    </tr>\n",
              "  </thead>\n",
              "  <tbody>\n",
              "    <tr>\n",
              "      <th>0</th>\n",
              "      <td>Vinculan a proceso a Francisco Garduño</td>\n",
              "      <td>/policia/francisco-garduno-vinculado-proceso-i...</td>\n",
              "      <td>policia</td>\n",
              "    </tr>\n",
              "    <tr>\n",
              "      <th>1</th>\n",
              "      <td>Incendio consume pipas con gasolina en carrete...</td>\n",
              "      <td>/estados/incendio-pipas-matamoros-tamaulipas-3...</td>\n",
              "      <td>estados</td>\n",
              "    </tr>\n",
              "    <tr>\n",
              "      <th>2</th>\n",
              "      <td>Tony Finau conquista el Mexico Open at Vidanta</td>\n",
              "      <td>/deportes/mas-aficion/tony-finau-conquista-mex...</td>\n",
              "      <td>deportes</td>\n",
              "    </tr>\n",
              "    <tr>\n",
              "      <th>3</th>\n",
              "      <td>Murió Mariano Hernández, diputado del PT en Pu...</td>\n",
              "      <td>/politica/fallece-mariano-hernandez-diputado-l...</td>\n",
              "      <td>politica</td>\n",
              "    </tr>\n",
              "    <tr>\n",
              "      <th>4</th>\n",
              "      <td>En Cuernavaca, localizan con vida a Diana Peña</td>\n",
              "      <td>/policia/diana-pena-desaparecida-coacalco-loca...</td>\n",
              "      <td>policia</td>\n",
              "    </tr>\n",
              "  </tbody>\n",
              "</table>\n",
              "</div>\n",
              "      <button class=\"colab-df-convert\" onclick=\"convertToInteractive('df-a73234b2-aadc-47c4-b3de-265460873877')\"\n",
              "              title=\"Convert this dataframe to an interactive table.\"\n",
              "              style=\"display:none;\">\n",
              "        \n",
              "  <svg xmlns=\"http://www.w3.org/2000/svg\" height=\"24px\"viewBox=\"0 0 24 24\"\n",
              "       width=\"24px\">\n",
              "    <path d=\"M0 0h24v24H0V0z\" fill=\"none\"/>\n",
              "    <path d=\"M18.56 5.44l.94 2.06.94-2.06 2.06-.94-2.06-.94-.94-2.06-.94 2.06-2.06.94zm-11 1L8.5 8.5l.94-2.06 2.06-.94-2.06-.94L8.5 2.5l-.94 2.06-2.06.94zm10 10l.94 2.06.94-2.06 2.06-.94-2.06-.94-.94-2.06-.94 2.06-2.06.94z\"/><path d=\"M17.41 7.96l-1.37-1.37c-.4-.4-.92-.59-1.43-.59-.52 0-1.04.2-1.43.59L10.3 9.45l-7.72 7.72c-.78.78-.78 2.05 0 2.83L4 21.41c.39.39.9.59 1.41.59.51 0 1.02-.2 1.41-.59l7.78-7.78 2.81-2.81c.8-.78.8-2.07 0-2.86zM5.41 20L4 18.59l7.72-7.72 1.47 1.35L5.41 20z\"/>\n",
              "  </svg>\n",
              "      </button>\n",
              "      \n",
              "  <style>\n",
              "    .colab-df-container {\n",
              "      display:flex;\n",
              "      flex-wrap:wrap;\n",
              "      gap: 12px;\n",
              "    }\n",
              "\n",
              "    .colab-df-convert {\n",
              "      background-color: #E8F0FE;\n",
              "      border: none;\n",
              "      border-radius: 50%;\n",
              "      cursor: pointer;\n",
              "      display: none;\n",
              "      fill: #1967D2;\n",
              "      height: 32px;\n",
              "      padding: 0 0 0 0;\n",
              "      width: 32px;\n",
              "    }\n",
              "\n",
              "    .colab-df-convert:hover {\n",
              "      background-color: #E2EBFA;\n",
              "      box-shadow: 0px 1px 2px rgba(60, 64, 67, 0.3), 0px 1px 3px 1px rgba(60, 64, 67, 0.15);\n",
              "      fill: #174EA6;\n",
              "    }\n",
              "\n",
              "    [theme=dark] .colab-df-convert {\n",
              "      background-color: #3B4455;\n",
              "      fill: #D2E3FC;\n",
              "    }\n",
              "\n",
              "    [theme=dark] .colab-df-convert:hover {\n",
              "      background-color: #434B5C;\n",
              "      box-shadow: 0px 1px 3px 1px rgba(0, 0, 0, 0.15);\n",
              "      filter: drop-shadow(0px 1px 2px rgba(0, 0, 0, 0.3));\n",
              "      fill: #FFFFFF;\n",
              "    }\n",
              "  </style>\n",
              "\n",
              "      <script>\n",
              "        const buttonEl =\n",
              "          document.querySelector('#df-a73234b2-aadc-47c4-b3de-265460873877 button.colab-df-convert');\n",
              "        buttonEl.style.display =\n",
              "          google.colab.kernel.accessAllowed ? 'block' : 'none';\n",
              "\n",
              "        async function convertToInteractive(key) {\n",
              "          const element = document.querySelector('#df-a73234b2-aadc-47c4-b3de-265460873877');\n",
              "          const dataTable =\n",
              "            await google.colab.kernel.invokeFunction('convertToInteractive',\n",
              "                                                     [key], {});\n",
              "          if (!dataTable) return;\n",
              "\n",
              "          const docLinkHtml = 'Like what you see? Visit the ' +\n",
              "            '<a target=\"_blank\" href=https://colab.research.google.com/notebooks/data_table.ipynb>data table notebook</a>'\n",
              "            + ' to learn more about interactive tables.';\n",
              "          element.innerHTML = '';\n",
              "          dataTable['output_type'] = 'display_data';\n",
              "          await google.colab.output.renderOutput(dataTable, element);\n",
              "          const docLink = document.createElement('div');\n",
              "          docLink.innerHTML = docLinkHtml;\n",
              "          element.appendChild(docLink);\n",
              "        }\n",
              "      </script>\n",
              "    </div>\n",
              "  </div>\n",
              "  "
            ]
          },
          "metadata": {},
          "execution_count": 87
        }
      ]
    },
    {
      "cell_type": "code",
      "source": [
        "df['category'].value_counts()"
      ],
      "metadata": {
        "colab": {
          "base_uri": "https://localhost:8080/"
        },
        "id": "P-OFJROK-iwC",
        "outputId": "a182ba46-ee23-4206-bc6f-97468265b87b"
      },
      "execution_count": 88,
      "outputs": [
        {
          "output_type": "execute_result",
          "data": {
            "text/plain": [
              "opinion          24\n",
              "politica         14\n",
              "deportes          7\n",
              "espectaculos      7\n",
              "cultura           7\n",
              "videos            6\n",
              "policia           4\n",
              "internacional     4\n",
              "negocios          4\n",
              "estados           2\n",
              "virales           1\n",
              "estilo            1\n",
              "Name: category, dtype: int64"
            ]
          },
          "metadata": {},
          "execution_count": 88
        }
      ]
    }
  ]
}