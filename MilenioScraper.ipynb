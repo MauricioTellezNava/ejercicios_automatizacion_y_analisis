{
  "nbformat": 4,
  "nbformat_minor": 0,
  "metadata": {
    "colab": {
      "provenance": [],
      "authorship_tag": "ABX9TyMDDbPYSK3TXtAHvwtQnw/r",
      "include_colab_link": true
    },
    "kernelspec": {
      "name": "python3",
      "display_name": "Python 3"
    },
    "language_info": {
      "name": "python"
    }
  },
  "cells": [
    {
      "cell_type": "markdown",
      "metadata": {
        "id": "view-in-github",
        "colab_type": "text"
      },
      "source": [
        "<a href=\"https://colab.research.google.com/github/MauricioTellezNava/ejercicios_automatizacion_y_analisis/blob/main/MilenioScraper.ipynb\" target=\"_parent\"><img src=\"https://colab.research.google.com/assets/colab-badge.svg\" alt=\"Open In Colab\"/></a>"
      ]
    },
    {
      "cell_type": "code",
      "source": [
        "from bs4 import BeautifulSoup\n",
        "import requests\n",
        "import pandas as pd\n",
        "import numpy as np"
      ],
      "metadata": {
        "id": "Pjp1ck4TvG7l"
      },
      "execution_count": 1,
      "outputs": []
    },
    {
      "cell_type": "code",
      "source": [
        "# Creando un header\n",
        "headers = {'User-agent': 'Mozilla/5.0 (Windows NT 10.0; Win64; x64) AppleWebKit/537.36 (KHTML, like Gecko) Chrome/58.0.3029.110 Safari/537.3'}\n",
        "\n",
        "request = requests.get('https://www.milenio.com/', headers=headers)\n",
        "html = request.content\n",
        "\n",
        "# Creando soup\n",
        "soup = BeautifulSoup(html, 'html.parser')\n",
        "# print(soup.prettify())  # Para buscar los elementos necesarios\n",
        "\n",
        "articles = []\n",
        "\n",
        "for h in soup.findAll(\"a\", class_=\"board-module__a\"):\n",
        "    if h.get('target') != '_blank':\n",
        "        name = h.contents[0]\n",
        "        link = h['href']\n",
        "        category = link.split('/')[1]\n",
        "\n",
        "        article = {\n",
        "            \"name\": name,\n",
        "            \"link\": link,\n",
        "            \"category\": category\n",
        "        }\n",
        "\n",
        "        articles.append(article)\n",
        "\n",
        "# Código para crear un dataset con las columnas 'name', 'link' y 'category'\n",
        "df = pd.DataFrame(articles, columns=['name', 'link', 'category'])\n",
        "\n",
        "\n",
        "from datetime import datetime\n",
        "now = datetime.now()\n",
        "date_time = now.strftime(\"%H%M_%d%m%Y\")\n",
        "filename = f\"noticias_{date_time}.csv\"\n",
        "df.to_csv(filename, index=False)\n"
      ],
      "metadata": {
        "id": "3uCshHAx74ih"
      },
      "execution_count": 2,
      "outputs": []
    }
  ]
}